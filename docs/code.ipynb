{
 "cells": [
  {
   "cell_type": "code",
   "execution_count": 2,
   "metadata": {},
   "outputs": [],
   "source": [
    "import overpass"
   ]
  },
  {
   "cell_type": "code",
   "execution_count": 3,
   "metadata": {},
   "outputs": [],
   "source": [
    "api=overpass.API()"
   ]
  },
  {
   "cell_type": "code",
   "execution_count": 4,
   "metadata": {},
   "outputs": [],
   "source": [
    "# we're looking for restaurants within 1000m of a given point\n",
    "\n",
    "overpass_query = \"\"\"\n",
    "(node[\"amenity\"=\"restaurant\"](around:1000,43.66, -79.39);\n",
    " way[\"amenity\"=\"restaurant\"](around:1000,43.66, -79.39);\n",
    " rel[\"amenity\"=\"restaurant\"](around:1000,43.66, -79.39);\n",
    ");\n",
    "out center;\n",
    "\"\"\"\n",
    "\n",
    "restaurants = api.get(overpass_query)"
   ]
  },
  {
   "cell_type": "code",
   "execution_count": 5,
   "metadata": {},
   "outputs": [],
   "source": [
    "import plotly.graph_objects as obj"
   ]
  },
  {
   "cell_type": "code",
   "execution_count": 6,
   "metadata": {},
   "outputs": [
    {
     "data": {
      "application/vnd.plotly.v1+json": {
       "config": {
        "plotlyServerURL": "https://plot.ly"
       },
       "data": [
        {
         "hoverinfo": "text",
         "lat": [
          43.655889,
          43.656166,
          43.655261,
          43.655148,
          43.654856,
          43.666719,
          43.662098,
          43.663671,
          43.66479,
          43.665371,
          43.653768,
          43.656255,
          43.655047,
          43.66084,
          43.66474,
          43.656585,
          43.656604,
          43.657454,
          43.658551,
          43.654807,
          43.656542,
          43.656153,
          43.656598,
          43.656542,
          43.655502,
          43.654129,
          43.667463,
          43.667791,
          43.667546,
          43.667012,
          43.666779,
          43.656158,
          43.665103,
          43.660995,
          43.661417,
          43.661338,
          43.661233,
          43.654433,
          43.657708,
          43.668631,
          43.661566,
          43.65506,
          43.655758,
          43.664985,
          43.664646,
          43.668482,
          43.66812,
          43.668133,
          43.668471,
          43.657823,
          43.665071,
          43.658858,
          43.658827,
          43.65538,
          43.666419,
          43.656511,
          43.656636,
          43.657518,
          43.658579,
          43.66561,
          43.666124,
          43.655852,
          43.655119,
          43.6546,
          43.660083,
          43.659886,
          43.664173,
          43.656667,
          43.665049,
          43.657704,
          43.654937,
          43.65497,
          43.654982,
          43.655041,
          43.655072,
          43.655102,
          43.655224,
          43.655865,
          43.661338,
          43.656136,
          43.65518,
          43.651278,
          43.6551,
          43.657239,
          43.66149,
          43.661672,
          43.660165,
          43.655813,
          43.661707,
          43.655073,
          43.668515,
          43.65707,
          43.655465,
          43.65545,
          43.654259,
          43.656115,
          43.657824,
          43.657839,
          43.65659,
          43.658856,
          43.657866,
          43.656237,
          43.653512,
          43.653313,
          43.656132,
          43.661386,
          43.654045,
          43.657001,
          43.656553,
          43.654642,
          43.655558,
          43.658856,
          43.659006,
          43.666712,
          43.657806,
          43.656273,
          43.663433,
          43.663477,
          43.665218,
          43.664983,
          43.664749,
          43.656095,
          43.656283,
          43.655764,
          43.656267,
          43.65363,
          43.653892,
          43.658302,
          43.655049,
          43.654848,
          43.655733,
          43.661519,
          43.658934,
          43.654462,
          43.653394,
          43.655515,
          43.655511,
          43.664852,
          43.664463,
          43.660404,
          43.658595,
          43.656617,
          43.662369,
          43.661375,
          43.657358,
          43.657404,
          43.657925,
          43.661379,
          43.656346,
          43.66418,
          43.6645,
          43.663908,
          43.664418,
          43.665086,
          43.665833,
          43.655969,
          43.656008,
          43.653168,
          43.655355,
          43.655115,
          43.655609,
          43.655617,
          43.653181,
          43.65379,
          43.653833,
          43.657168,
          43.657272,
          43.657053,
          43.654398,
          43.654389,
          43.66177,
          43.655063,
          43.655708,
          43.656649,
          43.654554,
          43.666726,
          43.667703,
          43.663672,
          43.663389,
          43.662261,
          43.662308,
          43.659372,
          43.665211,
          43.657643,
          43.657663,
          43.661685,
          43.658888,
          43.661322,
          43.657333,
          43.656063,
          43.654999,
          43.656386,
          43.657264,
          43.656192,
          43.655139,
          43.656184,
          43.666274,
          43.653681,
          43.66803,
          43.663772,
          43.66175,
          43.657377,
          43.660229,
          43.655227,
          43.667029,
          43.655043,
          43.655097,
          43.655128,
          43.655254,
          43.667545,
          43.654347,
          43.657049,
          43.662693,
          43.656456,
          43.65455,
          43.655889,
          43.656166,
          43.655261,
          43.655148,
          43.654856,
          43.666719,
          43.662098,
          43.663671,
          43.66479,
          43.665371,
          43.653768,
          43.656255,
          43.655047,
          43.66084,
          43.66474,
          43.656585,
          43.656604,
          43.657454,
          43.658551,
          43.654807,
          43.656542,
          43.656153,
          43.656598,
          43.656542,
          43.655502,
          43.654129,
          43.667463,
          43.667791,
          43.667546,
          43.667012,
          43.666779,
          43.656158,
          43.665103,
          43.660995,
          43.661417,
          43.661338,
          43.661233,
          43.654433,
          43.657708,
          43.668631,
          43.661566,
          43.65506,
          43.655758,
          43.664985,
          43.664646,
          43.668482,
          43.66812,
          43.668133,
          43.668471,
          43.657823,
          43.665071,
          43.658858,
          43.658827,
          43.65538,
          43.666419,
          43.656511,
          43.656636,
          43.657518,
          43.658579,
          43.66561,
          43.666124,
          43.655852,
          43.655119,
          43.6546,
          43.660083,
          43.659886,
          43.664173,
          43.656667,
          43.665049,
          43.657704,
          43.654937,
          43.65497,
          43.654982,
          43.655041,
          43.655072,
          43.655102,
          43.655224,
          43.655865,
          43.661338,
          43.656136,
          43.65518,
          43.651278,
          43.6551,
          43.657239,
          43.66149,
          43.661672,
          43.660165,
          43.655813,
          43.661707,
          43.655073,
          43.668515,
          43.65707,
          43.655465,
          43.65545,
          43.654259,
          43.656115,
          43.657824,
          43.657839,
          43.65659,
          43.658856,
          43.657866,
          43.656237,
          43.653512,
          43.653313,
          43.656132,
          43.661386,
          43.654045,
          43.657001,
          43.656553,
          43.654642,
          43.655558,
          43.658856,
          43.659006,
          43.666712,
          43.657806,
          43.656273,
          43.663433,
          43.663477,
          43.665218,
          43.664983,
          43.664749,
          43.656095,
          43.656283,
          43.655764,
          43.656267,
          43.65363,
          43.653892,
          43.658302,
          43.655049,
          43.654848,
          43.655733,
          43.661519,
          43.658934,
          43.654462,
          43.653394,
          43.655515,
          43.655511,
          43.664852,
          43.664463,
          43.660404,
          43.658595,
          43.656617,
          43.662369,
          43.661375,
          43.657358,
          43.657404,
          43.657925,
          43.661379,
          43.656346,
          43.66418,
          43.6645,
          43.663908,
          43.664418,
          43.665086,
          43.665833,
          43.655969,
          43.656008,
          43.653168,
          43.655355,
          43.655115,
          43.655609,
          43.655617,
          43.653181,
          43.65379,
          43.653833,
          43.657168,
          43.657272,
          43.657053,
          43.654398,
          43.654389,
          43.66177,
          43.655063,
          43.655708,
          43.656649,
          43.654554,
          43.666726,
          43.667703,
          43.663672,
          43.663389,
          43.662261,
          43.662308,
          43.659372,
          43.665211,
          43.657643,
          43.657663,
          43.661685,
          43.658888,
          43.661322,
          43.657333,
          43.656063,
          43.654999,
          43.656386,
          43.657264,
          43.656192,
          43.655139,
          43.656184,
          43.666274,
          43.653681,
          43.66803,
          43.663772,
          43.66175,
          43.657377,
          43.660229,
          43.655227,
          43.667029,
          43.655043,
          43.655097,
          43.655128,
          43.655254,
          43.667545,
          43.654347,
          43.657049,
          43.662693,
          43.656456,
          43.65455
         ],
         "lon": [
          -79.393378,
          -79.383636,
          -79.385282,
          -79.385817,
          -79.386186,
          -79.384075,
          -79.401159,
          -79.394524,
          -79.380393,
          -79.380933,
          -79.398692,
          -79.399057,
          -79.398569,
          -79.400321,
          -79.387571,
          -79.380539,
          -79.381198,
          -79.381596,
          -79.382585,
          -79.387501,
          -79.379999,
          -79.382641,
          -79.380406,
          -79.380457,
          -79.38038,
          -79.385098,
          -79.385383,
          -79.385594,
          -79.385825,
          -79.385617,
          -79.38552,
          -79.393203,
          -79.380843,
          -79.384015,
          -79.383684,
          -79.38403,
          -79.38622,
          -79.381012,
          -79.382108,
          -79.392987,
          -79.381743,
          -79.380157,
          -79.384241,
          -79.384732,
          -79.384955,
          -79.386757,
          -79.387722,
          -79.387207,
          -79.386862,
          -79.399579,
          -79.384752,
          -79.394241,
          -79.394388,
          -79.380334,
          -79.38748,
          -79.382528,
          -79.383729,
          -79.384124,
          -79.385339,
          -79.387169,
          -79.384919,
          -79.392245,
          -79.386118,
          -79.387143,
          -79.387467,
          -79.378895,
          -79.384096,
          -79.383838,
          -79.385492,
          -79.381698,
          -79.386932,
          -79.386769,
          -79.386709,
          -79.386489,
          -79.386331,
          -79.386199,
          -79.385263,
          -79.38186,
          -79.38413,
          -79.399596,
          -79.380246,
          -79.389119,
          -79.385211,
          -79.384137,
          -79.380447,
          -79.386352,
          -79.37757,
          -79.379061,
          -79.38087,
          -79.399689,
          -79.386693,
          -79.381652,
          -79.38428,
          -79.384453,
          -79.390578,
          -79.392391,
          -79.401735,
          -79.401665,
          -79.379843,
          -79.382168,
          -79.399287,
          -79.390698,
          -79.39074,
          -79.381889,
          -79.392308,
          -79.380857,
          -79.398761,
          -79.39996,
          -79.399788,
          -79.398995,
          -79.39941,
          -79.390511,
          -79.383343,
          -79.385752,
          -79.382798,
          -79.399703,
          -79.38412,
          -79.384136,
          -79.380972,
          -79.380797,
          -79.380683,
          -79.392484,
          -79.392963,
          -79.384595,
          -79.38844,
          -79.398631,
          -79.398712,
          -79.399883,
          -79.386441,
          -79.387354,
          -79.379171,
          -79.380241,
          -79.382406,
          -79.398953,
          -79.395606,
          -79.385479,
          -79.398792,
          -79.383275,
          -79.387409,
          -79.37894,
          -79.384007,
          -79.383729,
          -79.383693,
          -79.380864,
          -79.38347,
          -79.383275,
          -79.382613,
          -79.380853,
          -79.388275,
          -79.380179,
          -79.380313,
          -79.380063,
          -79.380284,
          -79.380521,
          -79.38112,
          -79.393115,
          -79.392897,
          -79.396645,
          -79.399309,
          -79.380219,
          -79.384872,
          -79.384835,
          -79.39654,
          -79.398088,
          -79.398106,
          -79.378508,
          -79.38113,
          -79.399404,
          -79.399283,
          -79.399337,
          -79.379101,
          -79.386379,
          -79.384459,
          -79.386395,
          -79.398975,
          -79.385643,
          -79.385546,
          -79.384218,
          -79.384099,
          -79.38364,
          -79.383661,
          -79.382033,
          -79.384852,
          -79.400908,
          -79.400862,
          -79.37947,
          -79.384762,
          -79.380612,
          -79.383613,
          -79.399563,
          -79.400076,
          -79.399764,
          -79.400114,
          -79.399687,
          -79.399625,
          -79.382293,
          -79.38528,
          -79.395038,
          -79.393282,
          -79.384298,
          -79.383476,
          -79.399541,
          -79.385889,
          -79.385498,
          -79.386266,
          -79.399873,
          -79.399933,
          -79.399783,
          -79.38537,
          -79.394906,
          -79.390773,
          -79.384907,
          -79.37951,
          -79.399122,
          -79.398357,
          -79.393378,
          -79.383636,
          -79.385282,
          -79.385817,
          -79.386186,
          -79.384075,
          -79.401159,
          -79.394524,
          -79.380393,
          -79.380933,
          -79.398692,
          -79.399057,
          -79.398569,
          -79.400321,
          -79.387571,
          -79.380539,
          -79.381198,
          -79.381596,
          -79.382585,
          -79.387501,
          -79.379999,
          -79.382641,
          -79.380406,
          -79.380457,
          -79.38038,
          -79.385098,
          -79.385383,
          -79.385594,
          -79.385825,
          -79.385617,
          -79.38552,
          -79.393203,
          -79.380843,
          -79.384015,
          -79.383684,
          -79.38403,
          -79.38622,
          -79.381012,
          -79.382108,
          -79.392987,
          -79.381743,
          -79.380157,
          -79.384241,
          -79.384732,
          -79.384955,
          -79.386757,
          -79.387722,
          -79.387207,
          -79.386862,
          -79.399579,
          -79.384752,
          -79.394241,
          -79.394388,
          -79.380334,
          -79.38748,
          -79.382528,
          -79.383729,
          -79.384124,
          -79.385339,
          -79.387169,
          -79.384919,
          -79.392245,
          -79.386118,
          -79.387143,
          -79.387467,
          -79.378895,
          -79.384096,
          -79.383838,
          -79.385492,
          -79.381698,
          -79.386932,
          -79.386769,
          -79.386709,
          -79.386489,
          -79.386331,
          -79.386199,
          -79.385263,
          -79.38186,
          -79.38413,
          -79.399596,
          -79.380246,
          -79.389119,
          -79.385211,
          -79.384137,
          -79.380447,
          -79.386352,
          -79.37757,
          -79.379061,
          -79.38087,
          -79.399689,
          -79.386693,
          -79.381652,
          -79.38428,
          -79.384453,
          -79.390578,
          -79.392391,
          -79.401735,
          -79.401665,
          -79.379843,
          -79.382168,
          -79.399287,
          -79.390698,
          -79.39074,
          -79.381889,
          -79.392308,
          -79.380857,
          -79.398761,
          -79.39996,
          -79.399788,
          -79.398995,
          -79.39941,
          -79.390511,
          -79.383343,
          -79.385752,
          -79.382798,
          -79.399703,
          -79.38412,
          -79.384136,
          -79.380972,
          -79.380797,
          -79.380683,
          -79.392484,
          -79.392963,
          -79.384595,
          -79.38844,
          -79.398631,
          -79.398712,
          -79.399883,
          -79.386441,
          -79.387354,
          -79.379171,
          -79.380241,
          -79.382406,
          -79.398953,
          -79.395606,
          -79.385479,
          -79.398792,
          -79.383275,
          -79.387409,
          -79.37894,
          -79.384007,
          -79.383729,
          -79.383693,
          -79.380864,
          -79.38347,
          -79.383275,
          -79.382613,
          -79.380853,
          -79.388275,
          -79.380179,
          -79.380313,
          -79.380063,
          -79.380284,
          -79.380521,
          -79.38112,
          -79.393115,
          -79.392897,
          -79.396645,
          -79.399309,
          -79.380219,
          -79.384872,
          -79.384835,
          -79.39654,
          -79.398088,
          -79.398106,
          -79.378508,
          -79.38113,
          -79.399404,
          -79.399283,
          -79.399337,
          -79.379101,
          -79.386379,
          -79.384459,
          -79.386395,
          -79.398975,
          -79.385643,
          -79.385546,
          -79.384218,
          -79.384099,
          -79.38364,
          -79.383661,
          -79.382033,
          -79.384852,
          -79.400908,
          -79.400862,
          -79.37947,
          -79.384762,
          -79.380612,
          -79.383613,
          -79.399563,
          -79.400076,
          -79.399764,
          -79.400114,
          -79.399687,
          -79.399625,
          -79.382293,
          -79.38528,
          -79.395038,
          -79.393282,
          -79.384298,
          -79.383476,
          -79.399541,
          -79.385889,
          -79.385498,
          -79.386266,
          -79.399873,
          -79.399933,
          -79.399783,
          -79.38537,
          -79.394906,
          -79.390773,
          -79.384907,
          -79.37951,
          -79.399122,
          -79.398357
         ],
         "marker": {
          "color": "blue",
          "size": 8
         },
         "mode": "markers",
         "showlegend": false,
         "text": [
          "Jodhpore Club",
          "Red Lobster",
          "Kyoto House Japanese Restaurant",
          "Gyubee Japanese Grill",
          "Hemispheres Restaurant Bistro",
          "Bumpkin's",
          "New College Cafeteria",
          "The Arbor Room",
          "Garage",
          "Ginger",
          "Dumpling House Restaurant",
          "Sizzler Kabab",
          "PaPaSpicy",
          "Harvest Noon Cafe",
          "Freshii",
          "Milestones",
          "Pickle Barrel Grand",
          "Yonge Street Warehouse",
          "Market Garden Food Emporium & Terrace",
          "Sushi House",
          "Blaze Pizza",
          "Spring Rolls",
          "Jack Astor's",
          "Spring Sushi",
          "3 Brewers",
          "The Chestnut Tree",
          "Aji Sai Restaurant",
          "Shinyi Seafood + Dumplings",
          "Monga Fried Chicken",
          "The Boil Bar",
          "NONAME",
          "Cafe la Gaffe",
          "Café California",
          "Freshii",
          "Burger Bar",
          "Fran's Restaurant",
          "Tonto",
          "Trattoria Mercatto",
          "Barberian's Steakhouse and Tavern",
          "Dynasty Chinese Cuisine",
          "Daily Sushi Japanese restaurant",
          "Paramount Middle Eastern Cuisine and Bakery",
          "You Don Ya",
          "Not Just Noodles",
          "Sushi Garden",
          "GBF Gourmet Burger Co.",
          "Sushi Club",
          "Okonomi House",
          "Exotic Tandoori",
          "GoGrill, The Healthy Choice",
          "Coach House Tavern Restaurant",
          "Spicy Mafia",
          "Dear Saigon",
          "Asian Bowl",
          "Crown Princess Fine Dining",
          "St. Louis Bar & Grill",
          "Ichimi Sushi",
          "KAKA All You Can Eat",
          "Epicure City Sushi",
          "Tokyo Sushi",
          "Sushi Hana",
          "Midi",
          "T&C Restaurant",
          "Wah Too Seafood Restaurant",
          "Mercatto",
          "Katsuya",
          "Sushi Supreme Fusion",
          "Rex's",
          "Segovia",
          "Salad King",
          "Hong Shing Chinese Restaurant",
          "Sushi & Bento",
          "Lan Zhou Ramen",
          "Cali Restaurant",
          "12 o'lunch",
          "Evergreen Thai Restaurant",
          "Yueh Tung Restaurant",
          "Joey",
          "Screen Lounge & Rooftop Patio",
          "New Ho King",
          "Khazana",
          "Ema-Tei Authentic Japanese Food",
          "Japango",
          "Eggsmart",
          "NONAME",
          "Nando's",
          "Bocconcini Pizza and Wings",
          "Jazz Bistro",
          "Carlton Restaurant",
          "Hot Beans",
          "7 West",
          "Ugly Duk ling",
          "Dagu Rice Noodle",
          "Denny's",
          "Gallery Sushi",
          "Omai",
          "Fresca Pizza & Pasta",
          "Freeplay",
          "Jack Astor's",
          "Sushi Tower Japanese Restaurant",
          "Shawarma Max",
          "Bread & Bowl",
          "Manpuku",
          "eggspectation",
          "St. Louis Bar & Grill",
          "Daio",
          "Taste of China Seafood Restaurant",
          "Huibing",
          "Hungking",
          "King Lobster",
          "Rol San",
          "Swiss Chalet",
          "Duke's Refresher + Bar",
          "Ethiopian House Restaurant",
          "Bangkok Garden",
          "Canton Chili",
          "swirlcrêpe",
          "Diyijia",
          "NONAME",
          "Just Thai",
          "Loaded Pierogi",
          "The Winding Road Restaurant",
          "Margarita's Mexican Fiesta",
          "Don Don Izakaya",
          "Freshii",
          "Shi Miao Dao Yunnan Rice Noodle",
          "Ajisen Ramen Japanese Noodle",
          "Jerk King",
          "Sansotei Ramen",
          "Fugo desserts",
          "Senator Restaurant",
          "Golden Griddle",
          "Elephant & Castle",
          "Phở Hưng",
          "Dim Sum King",
          "New Treasure Restaurant",
          "Han's Stir Fry & BBQ",
          "The Spice Village",
          "Freshii",
          "Kinka Izakaya",
          "Bb 33 Bistro & Brasserie",
          "GB Hand-Pulled Noodles",
          "Captains Boil",
          "DAIO Authentic Japanese Cuisine",
          "Donatello",
          "Adega",
          "Bangkok Gardens",
          "Ho Jan Chinese Restaurant",
          "Mr Burrito / Baba Geddo",
          "Kintaro Izakaya",
          "Indian Roti House",
          "Kawa Sushi",
          "North of Brooklyn Pizzeria",
          "Sambucas On Church",
          "Amor Fusion Doner & Kebab",
          "Panpan Noodle Bar",
          "Valens",
          "Rosewood Asian cuisine",
          "Lavetto",
          "Kanpai Snack Bar",
          "Bapbo Korean Cuisine",
          "Kenzo Ramen",
          "Yummy Yummy Dumplings",
          "Swatow Restaurant",
          "Swatow Restaurant",
          "Chachu's",
          "Vegan Bear",
          "Mother's Dumplings",
          "Saigon Lotus",
          "Ka Chi",
          "NARU Izakaya",
          "Gyugyuya",
          "Artisan+",
          "The Host",
          "Fudao Noodle House",
          "Koyoi Japanese Restaurant & Bar",
          "The Bar",
          "Bone Soup Malatang",
          "Darvish Persian Cuisine",
          "Dickey's Barbecue Pit",
          "Four Four South Village",
          "Boston Pizza",
          "Mabu Generation",
          "Mihito",
          "Dak Lak",
          "Pi Co",
          "NONAME",
          "The Lexington",
          "Konjiki Ramen (Downtown)",
          "Thai Country Kitchen",
          "The Lobster Roll",
          "Song Tea",
          "Simmer Huang",
          "Xiao Biandan",
          "La Fermenteria",
          "Moon Palace",
          "Nam Dae  Moon Rice Cake",
          "Yunshang Rice Noodle",
          "Clay",
          "The Fry",
          "Hoops Sports Bar & Grill",
          "Qin's Garden",
          "Deer Garden",
          "Kimchi Korea House",
          "Avelo",
          "Eat Nabati",
          "Lana's Kitchen",
          "Veggie D'Light",
          "Tsujiri",
          "Druxy's ROM Cafe",
          "Gallery Sushi",
          "Metagali",
          "AFURI Ramen + Dumpling",
          "Anh Dao",
          "Chine",
          "Jodhpore Club",
          "Red Lobster",
          "Kyoto House Japanese Restaurant",
          "Gyubee Japanese Grill",
          "Hemispheres Restaurant Bistro",
          "Bumpkin's",
          "New College Cafeteria",
          "The Arbor Room",
          "Garage",
          "Ginger",
          "Dumpling House Restaurant",
          "Sizzler Kabab",
          "PaPaSpicy",
          "Harvest Noon Cafe",
          "Freshii",
          "Milestones",
          "Pickle Barrel Grand",
          "Yonge Street Warehouse",
          "Market Garden Food Emporium & Terrace",
          "Sushi House",
          "Blaze Pizza",
          "Spring Rolls",
          "Jack Astor's",
          "Spring Sushi",
          "3 Brewers",
          "The Chestnut Tree",
          "Aji Sai Restaurant",
          "Shinyi Seafood + Dumplings",
          "Monga Fried Chicken",
          "The Boil Bar",
          "NONAME",
          "Cafe la Gaffe",
          "Café California",
          "Freshii",
          "Burger Bar",
          "Fran's Restaurant",
          "Tonto",
          "Trattoria Mercatto",
          "Barberian's Steakhouse and Tavern",
          "Dynasty Chinese Cuisine",
          "Daily Sushi Japanese restaurant",
          "Paramount Middle Eastern Cuisine and Bakery",
          "You Don Ya",
          "Not Just Noodles",
          "Sushi Garden",
          "GBF Gourmet Burger Co.",
          "Sushi Club",
          "Okonomi House",
          "Exotic Tandoori",
          "GoGrill, The Healthy Choice",
          "Coach House Tavern Restaurant",
          "Spicy Mafia",
          "Dear Saigon",
          "Asian Bowl",
          "Crown Princess Fine Dining",
          "St. Louis Bar & Grill",
          "Ichimi Sushi",
          "KAKA All You Can Eat",
          "Epicure City Sushi",
          "Tokyo Sushi",
          "Sushi Hana",
          "Midi",
          "T&C Restaurant",
          "Wah Too Seafood Restaurant",
          "Mercatto",
          "Katsuya",
          "Sushi Supreme Fusion",
          "Rex's",
          "Segovia",
          "Salad King",
          "Hong Shing Chinese Restaurant",
          "Sushi & Bento",
          "Lan Zhou Ramen",
          "Cali Restaurant",
          "12 o'lunch",
          "Evergreen Thai Restaurant",
          "Yueh Tung Restaurant",
          "Joey",
          "Screen Lounge & Rooftop Patio",
          "New Ho King",
          "Khazana",
          "Ema-Tei Authentic Japanese Food",
          "Japango",
          "Eggsmart",
          "NONAME",
          "Nando's",
          "Bocconcini Pizza and Wings",
          "Jazz Bistro",
          "Carlton Restaurant",
          "Hot Beans",
          "7 West",
          "Ugly Duk ling",
          "Dagu Rice Noodle",
          "Denny's",
          "Gallery Sushi",
          "Omai",
          "Fresca Pizza & Pasta",
          "Freeplay",
          "Jack Astor's",
          "Sushi Tower Japanese Restaurant",
          "Shawarma Max",
          "Bread & Bowl",
          "Manpuku",
          "eggspectation",
          "St. Louis Bar & Grill",
          "Daio",
          "Taste of China Seafood Restaurant",
          "Huibing",
          "Hungking",
          "King Lobster",
          "Rol San",
          "Swiss Chalet",
          "Duke's Refresher + Bar",
          "Ethiopian House Restaurant",
          "Bangkok Garden",
          "Canton Chili",
          "swirlcrêpe",
          "Diyijia",
          "NONAME",
          "Just Thai",
          "Loaded Pierogi",
          "The Winding Road Restaurant",
          "Margarita's Mexican Fiesta",
          "Don Don Izakaya",
          "Freshii",
          "Shi Miao Dao Yunnan Rice Noodle",
          "Ajisen Ramen Japanese Noodle",
          "Jerk King",
          "Sansotei Ramen",
          "Fugo desserts",
          "Senator Restaurant",
          "Golden Griddle",
          "Elephant & Castle",
          "Phở Hưng",
          "Dim Sum King",
          "New Treasure Restaurant",
          "Han's Stir Fry & BBQ",
          "The Spice Village",
          "Freshii",
          "Kinka Izakaya",
          "Bb 33 Bistro & Brasserie",
          "GB Hand-Pulled Noodles",
          "Captains Boil",
          "DAIO Authentic Japanese Cuisine",
          "Donatello",
          "Adega",
          "Bangkok Gardens",
          "Ho Jan Chinese Restaurant",
          "Mr Burrito / Baba Geddo",
          "Kintaro Izakaya",
          "Indian Roti House",
          "Kawa Sushi",
          "North of Brooklyn Pizzeria",
          "Sambucas On Church",
          "Amor Fusion Doner & Kebab",
          "Panpan Noodle Bar",
          "Valens",
          "Rosewood Asian cuisine",
          "Lavetto",
          "Kanpai Snack Bar",
          "Bapbo Korean Cuisine",
          "Kenzo Ramen",
          "Yummy Yummy Dumplings",
          "Swatow Restaurant",
          "Swatow Restaurant",
          "Chachu's",
          "Vegan Bear",
          "Mother's Dumplings",
          "Saigon Lotus",
          "Ka Chi",
          "NARU Izakaya",
          "Gyugyuya",
          "Artisan+",
          "The Host",
          "Fudao Noodle House",
          "Koyoi Japanese Restaurant & Bar",
          "The Bar",
          "Bone Soup Malatang",
          "Darvish Persian Cuisine",
          "Dickey's Barbecue Pit",
          "Four Four South Village",
          "Boston Pizza",
          "Mabu Generation",
          "Mihito",
          "Dak Lak",
          "Pi Co",
          "NONAME",
          "The Lexington",
          "Konjiki Ramen (Downtown)",
          "Thai Country Kitchen",
          "The Lobster Roll",
          "Song Tea",
          "Simmer Huang",
          "Xiao Biandan",
          "La Fermenteria",
          "Moon Palace",
          "Nam Dae  Moon Rice Cake",
          "Yunshang Rice Noodle",
          "Clay",
          "The Fry",
          "Hoops Sports Bar & Grill",
          "Qin's Garden",
          "Deer Garden",
          "Kimchi Korea House",
          "Avelo",
          "Eat Nabati",
          "Lana's Kitchen",
          "Veggie D'Light",
          "Tsujiri",
          "Druxy's ROM Cafe",
          "Gallery Sushi",
          "Metagali",
          "AFURI Ramen + Dumpling",
          "Anh Dao",
          "Chine"
         ],
         "type": "scattermapbox"
        }
       ],
       "layout": {
        "mapbox": {
         "center": {
          "lat": 43.662643,
          "lon": -79.395689
         },
         "style": "stamen-terrain",
         "zoom": 13
        },
        "margin": {
         "b": 0,
         "l": 0,
         "r": 0,
         "t": 0
        },
        "template": {
         "data": {
          "bar": [
           {
            "error_x": {
             "color": "#2a3f5f"
            },
            "error_y": {
             "color": "#2a3f5f"
            },
            "marker": {
             "line": {
              "color": "#E5ECF6",
              "width": 0.5
             },
             "pattern": {
              "fillmode": "overlay",
              "size": 10,
              "solidity": 0.2
             }
            },
            "type": "bar"
           }
          ],
          "barpolar": [
           {
            "marker": {
             "line": {
              "color": "#E5ECF6",
              "width": 0.5
             },
             "pattern": {
              "fillmode": "overlay",
              "size": 10,
              "solidity": 0.2
             }
            },
            "type": "barpolar"
           }
          ],
          "carpet": [
           {
            "aaxis": {
             "endlinecolor": "#2a3f5f",
             "gridcolor": "white",
             "linecolor": "white",
             "minorgridcolor": "white",
             "startlinecolor": "#2a3f5f"
            },
            "baxis": {
             "endlinecolor": "#2a3f5f",
             "gridcolor": "white",
             "linecolor": "white",
             "minorgridcolor": "white",
             "startlinecolor": "#2a3f5f"
            },
            "type": "carpet"
           }
          ],
          "choropleth": [
           {
            "colorbar": {
             "outlinewidth": 0,
             "ticks": ""
            },
            "type": "choropleth"
           }
          ],
          "contour": [
           {
            "colorbar": {
             "outlinewidth": 0,
             "ticks": ""
            },
            "colorscale": [
             [
              0,
              "#0d0887"
             ],
             [
              0.1111111111111111,
              "#46039f"
             ],
             [
              0.2222222222222222,
              "#7201a8"
             ],
             [
              0.3333333333333333,
              "#9c179e"
             ],
             [
              0.4444444444444444,
              "#bd3786"
             ],
             [
              0.5555555555555556,
              "#d8576b"
             ],
             [
              0.6666666666666666,
              "#ed7953"
             ],
             [
              0.7777777777777778,
              "#fb9f3a"
             ],
             [
              0.8888888888888888,
              "#fdca26"
             ],
             [
              1,
              "#f0f921"
             ]
            ],
            "type": "contour"
           }
          ],
          "contourcarpet": [
           {
            "colorbar": {
             "outlinewidth": 0,
             "ticks": ""
            },
            "type": "contourcarpet"
           }
          ],
          "heatmap": [
           {
            "colorbar": {
             "outlinewidth": 0,
             "ticks": ""
            },
            "colorscale": [
             [
              0,
              "#0d0887"
             ],
             [
              0.1111111111111111,
              "#46039f"
             ],
             [
              0.2222222222222222,
              "#7201a8"
             ],
             [
              0.3333333333333333,
              "#9c179e"
             ],
             [
              0.4444444444444444,
              "#bd3786"
             ],
             [
              0.5555555555555556,
              "#d8576b"
             ],
             [
              0.6666666666666666,
              "#ed7953"
             ],
             [
              0.7777777777777778,
              "#fb9f3a"
             ],
             [
              0.8888888888888888,
              "#fdca26"
             ],
             [
              1,
              "#f0f921"
             ]
            ],
            "type": "heatmap"
           }
          ],
          "heatmapgl": [
           {
            "colorbar": {
             "outlinewidth": 0,
             "ticks": ""
            },
            "colorscale": [
             [
              0,
              "#0d0887"
             ],
             [
              0.1111111111111111,
              "#46039f"
             ],
             [
              0.2222222222222222,
              "#7201a8"
             ],
             [
              0.3333333333333333,
              "#9c179e"
             ],
             [
              0.4444444444444444,
              "#bd3786"
             ],
             [
              0.5555555555555556,
              "#d8576b"
             ],
             [
              0.6666666666666666,
              "#ed7953"
             ],
             [
              0.7777777777777778,
              "#fb9f3a"
             ],
             [
              0.8888888888888888,
              "#fdca26"
             ],
             [
              1,
              "#f0f921"
             ]
            ],
            "type": "heatmapgl"
           }
          ],
          "histogram": [
           {
            "marker": {
             "pattern": {
              "fillmode": "overlay",
              "size": 10,
              "solidity": 0.2
             }
            },
            "type": "histogram"
           }
          ],
          "histogram2d": [
           {
            "colorbar": {
             "outlinewidth": 0,
             "ticks": ""
            },
            "colorscale": [
             [
              0,
              "#0d0887"
             ],
             [
              0.1111111111111111,
              "#46039f"
             ],
             [
              0.2222222222222222,
              "#7201a8"
             ],
             [
              0.3333333333333333,
              "#9c179e"
             ],
             [
              0.4444444444444444,
              "#bd3786"
             ],
             [
              0.5555555555555556,
              "#d8576b"
             ],
             [
              0.6666666666666666,
              "#ed7953"
             ],
             [
              0.7777777777777778,
              "#fb9f3a"
             ],
             [
              0.8888888888888888,
              "#fdca26"
             ],
             [
              1,
              "#f0f921"
             ]
            ],
            "type": "histogram2d"
           }
          ],
          "histogram2dcontour": [
           {
            "colorbar": {
             "outlinewidth": 0,
             "ticks": ""
            },
            "colorscale": [
             [
              0,
              "#0d0887"
             ],
             [
              0.1111111111111111,
              "#46039f"
             ],
             [
              0.2222222222222222,
              "#7201a8"
             ],
             [
              0.3333333333333333,
              "#9c179e"
             ],
             [
              0.4444444444444444,
              "#bd3786"
             ],
             [
              0.5555555555555556,
              "#d8576b"
             ],
             [
              0.6666666666666666,
              "#ed7953"
             ],
             [
              0.7777777777777778,
              "#fb9f3a"
             ],
             [
              0.8888888888888888,
              "#fdca26"
             ],
             [
              1,
              "#f0f921"
             ]
            ],
            "type": "histogram2dcontour"
           }
          ],
          "mesh3d": [
           {
            "colorbar": {
             "outlinewidth": 0,
             "ticks": ""
            },
            "type": "mesh3d"
           }
          ],
          "parcoords": [
           {
            "line": {
             "colorbar": {
              "outlinewidth": 0,
              "ticks": ""
             }
            },
            "type": "parcoords"
           }
          ],
          "pie": [
           {
            "automargin": true,
            "type": "pie"
           }
          ],
          "scatter": [
           {
            "fillpattern": {
             "fillmode": "overlay",
             "size": 10,
             "solidity": 0.2
            },
            "type": "scatter"
           }
          ],
          "scatter3d": [
           {
            "line": {
             "colorbar": {
              "outlinewidth": 0,
              "ticks": ""
             }
            },
            "marker": {
             "colorbar": {
              "outlinewidth": 0,
              "ticks": ""
             }
            },
            "type": "scatter3d"
           }
          ],
          "scattercarpet": [
           {
            "marker": {
             "colorbar": {
              "outlinewidth": 0,
              "ticks": ""
             }
            },
            "type": "scattercarpet"
           }
          ],
          "scattergeo": [
           {
            "marker": {
             "colorbar": {
              "outlinewidth": 0,
              "ticks": ""
             }
            },
            "type": "scattergeo"
           }
          ],
          "scattergl": [
           {
            "marker": {
             "colorbar": {
              "outlinewidth": 0,
              "ticks": ""
             }
            },
            "type": "scattergl"
           }
          ],
          "scattermapbox": [
           {
            "marker": {
             "colorbar": {
              "outlinewidth": 0,
              "ticks": ""
             }
            },
            "type": "scattermapbox"
           }
          ],
          "scatterpolar": [
           {
            "marker": {
             "colorbar": {
              "outlinewidth": 0,
              "ticks": ""
             }
            },
            "type": "scatterpolar"
           }
          ],
          "scatterpolargl": [
           {
            "marker": {
             "colorbar": {
              "outlinewidth": 0,
              "ticks": ""
             }
            },
            "type": "scatterpolargl"
           }
          ],
          "scatterternary": [
           {
            "marker": {
             "colorbar": {
              "outlinewidth": 0,
              "ticks": ""
             }
            },
            "type": "scatterternary"
           }
          ],
          "surface": [
           {
            "colorbar": {
             "outlinewidth": 0,
             "ticks": ""
            },
            "colorscale": [
             [
              0,
              "#0d0887"
             ],
             [
              0.1111111111111111,
              "#46039f"
             ],
             [
              0.2222222222222222,
              "#7201a8"
             ],
             [
              0.3333333333333333,
              "#9c179e"
             ],
             [
              0.4444444444444444,
              "#bd3786"
             ],
             [
              0.5555555555555556,
              "#d8576b"
             ],
             [
              0.6666666666666666,
              "#ed7953"
             ],
             [
              0.7777777777777778,
              "#fb9f3a"
             ],
             [
              0.8888888888888888,
              "#fdca26"
             ],
             [
              1,
              "#f0f921"
             ]
            ],
            "type": "surface"
           }
          ],
          "table": [
           {
            "cells": {
             "fill": {
              "color": "#EBF0F8"
             },
             "line": {
              "color": "white"
             }
            },
            "header": {
             "fill": {
              "color": "#C8D4E3"
             },
             "line": {
              "color": "white"
             }
            },
            "type": "table"
           }
          ]
         },
         "layout": {
          "annotationdefaults": {
           "arrowcolor": "#2a3f5f",
           "arrowhead": 0,
           "arrowwidth": 1
          },
          "autotypenumbers": "strict",
          "coloraxis": {
           "colorbar": {
            "outlinewidth": 0,
            "ticks": ""
           }
          },
          "colorscale": {
           "diverging": [
            [
             0,
             "#8e0152"
            ],
            [
             0.1,
             "#c51b7d"
            ],
            [
             0.2,
             "#de77ae"
            ],
            [
             0.3,
             "#f1b6da"
            ],
            [
             0.4,
             "#fde0ef"
            ],
            [
             0.5,
             "#f7f7f7"
            ],
            [
             0.6,
             "#e6f5d0"
            ],
            [
             0.7,
             "#b8e186"
            ],
            [
             0.8,
             "#7fbc41"
            ],
            [
             0.9,
             "#4d9221"
            ],
            [
             1,
             "#276419"
            ]
           ],
           "sequential": [
            [
             0,
             "#0d0887"
            ],
            [
             0.1111111111111111,
             "#46039f"
            ],
            [
             0.2222222222222222,
             "#7201a8"
            ],
            [
             0.3333333333333333,
             "#9c179e"
            ],
            [
             0.4444444444444444,
             "#bd3786"
            ],
            [
             0.5555555555555556,
             "#d8576b"
            ],
            [
             0.6666666666666666,
             "#ed7953"
            ],
            [
             0.7777777777777778,
             "#fb9f3a"
            ],
            [
             0.8888888888888888,
             "#fdca26"
            ],
            [
             1,
             "#f0f921"
            ]
           ],
           "sequentialminus": [
            [
             0,
             "#0d0887"
            ],
            [
             0.1111111111111111,
             "#46039f"
            ],
            [
             0.2222222222222222,
             "#7201a8"
            ],
            [
             0.3333333333333333,
             "#9c179e"
            ],
            [
             0.4444444444444444,
             "#bd3786"
            ],
            [
             0.5555555555555556,
             "#d8576b"
            ],
            [
             0.6666666666666666,
             "#ed7953"
            ],
            [
             0.7777777777777778,
             "#fb9f3a"
            ],
            [
             0.8888888888888888,
             "#fdca26"
            ],
            [
             1,
             "#f0f921"
            ]
           ]
          },
          "colorway": [
           "#636efa",
           "#EF553B",
           "#00cc96",
           "#ab63fa",
           "#FFA15A",
           "#19d3f3",
           "#FF6692",
           "#B6E880",
           "#FF97FF",
           "#FECB52"
          ],
          "font": {
           "color": "#2a3f5f"
          },
          "geo": {
           "bgcolor": "white",
           "lakecolor": "white",
           "landcolor": "#E5ECF6",
           "showlakes": true,
           "showland": true,
           "subunitcolor": "white"
          },
          "hoverlabel": {
           "align": "left"
          },
          "hovermode": "closest",
          "mapbox": {
           "style": "light"
          },
          "paper_bgcolor": "white",
          "plot_bgcolor": "#E5ECF6",
          "polar": {
           "angularaxis": {
            "gridcolor": "white",
            "linecolor": "white",
            "ticks": ""
           },
           "bgcolor": "#E5ECF6",
           "radialaxis": {
            "gridcolor": "white",
            "linecolor": "white",
            "ticks": ""
           }
          },
          "scene": {
           "xaxis": {
            "backgroundcolor": "#E5ECF6",
            "gridcolor": "white",
            "gridwidth": 2,
            "linecolor": "white",
            "showbackground": true,
            "ticks": "",
            "zerolinecolor": "white"
           },
           "yaxis": {
            "backgroundcolor": "#E5ECF6",
            "gridcolor": "white",
            "gridwidth": 2,
            "linecolor": "white",
            "showbackground": true,
            "ticks": "",
            "zerolinecolor": "white"
           },
           "zaxis": {
            "backgroundcolor": "#E5ECF6",
            "gridcolor": "white",
            "gridwidth": 2,
            "linecolor": "white",
            "showbackground": true,
            "ticks": "",
            "zerolinecolor": "white"
           }
          },
          "shapedefaults": {
           "line": {
            "color": "#2a3f5f"
           }
          },
          "ternary": {
           "aaxis": {
            "gridcolor": "white",
            "linecolor": "white",
            "ticks": ""
           },
           "baxis": {
            "gridcolor": "white",
            "linecolor": "white",
            "ticks": ""
           },
           "bgcolor": "#E5ECF6",
           "caxis": {
            "gridcolor": "white",
            "linecolor": "white",
            "ticks": ""
           }
          },
          "title": {
           "x": 0.05
          },
          "xaxis": {
           "automargin": true,
           "gridcolor": "white",
           "linecolor": "white",
           "ticks": "",
           "title": {
            "standoff": 15
           },
           "zerolinecolor": "white",
           "zerolinewidth": 2
          },
          "yaxis": {
           "automargin": true,
           "gridcolor": "white",
           "linecolor": "white",
           "ticks": "",
           "title": {
            "standoff": 15
           },
           "zerolinecolor": "white",
           "zerolinewidth": 2
          }
         }
        }
       }
      }
     },
     "metadata": {},
     "output_type": "display_data"
    }
   ],
   "source": [
    "# Extract the lon, lat and name of each restaurant:\n",
    "coords = []\n",
    "text = []\n",
    "for elem in restaurants['features']:\n",
    "    latlon = elem['geometry']['coordinates']\n",
    "    if latlon == []: continue\n",
    "    coords.append(latlon)\n",
    "    if 'name'  not in elem['properties']:\n",
    "        text.append('NONAME')\n",
    "    else:\n",
    "        text.append(elem['properties']['name'])\n",
    "        \n",
    "# Convert into a dictionary for plotly\n",
    "restaurant_dict = dict(type='scattermapbox',\n",
    "                   lat=[x[1] for x in coords], \n",
    "                   lon=[x[0] for x in coords],\n",
    "                   mode='markers',\n",
    "                   text=text,\n",
    "                   marker=dict(size=8, color='blue'),\n",
    "                   hoverinfo='text',    \n",
    "                   showlegend=False)\n",
    "\n",
    "\n",
    "# plotting restaurants' locations around University of Toronto\n",
    "center=(43.662643, -79.395689) # UofT main building\n",
    "\n",
    "fig = obj.Figure(obj.Scattermapbox(restaurant_dict))\n",
    "\n",
    "# defining plot layout\n",
    "fig.update_layout(mapbox_style=\"stamen-terrain\")\n",
    "fig.update_layout(margin={\"r\":0,\"t\":0,\"l\":0,\"b\":0}, mapbox = {'center': {'lat': center[0], 'lon': center[1]}, 'zoom': 13})\n",
    "fig.show()"
   ]
  },
  {
   "cell_type": "code",
   "execution_count": null,
   "metadata": {},
   "outputs": [],
   "source": []
  }
 ],
 "metadata": {
  "kernelspec": {
   "display_name": "Python 3",
   "language": "python",
   "name": "python3"
  },
  "language_info": {
   "codemirror_mode": {
    "name": "ipython",
    "version": 3
   },
   "file_extension": ".py",
   "mimetype": "text/x-python",
   "name": "python",
   "nbconvert_exporter": "python",
   "pygments_lexer": "ipython3",
   "version": "3.12.1"
  }
 },
 "nbformat": 4,
 "nbformat_minor": 2
}
